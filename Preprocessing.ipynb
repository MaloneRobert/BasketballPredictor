{
 "cells": [
  {
   "cell_type": "code",
   "execution_count": 65,
   "metadata": {
    "collapsed": true
   },
   "outputs": [],
   "source": [
    "import pandas as pd\n",
    "%matplotlib inline\n",
    "from matplotlib import pyplot as plt\n",
    "import numpy as np\n",
    "from scipy.stats import ttest_ind\n",
    "import math"
   ]
  },
  {
   "cell_type": "code",
   "execution_count": 66,
   "metadata": {
    "collapsed": true
   },
   "outputs": [],
   "source": [
    "box_path = '/Users/dtradke/Documents/CC/Junior_BL8_MachineLearning/final_project/not_prepro_box_data/'\n",
    "\n",
    "team_box1617 = pd.read_csv(box_path+\"2016-17_teamBoxScore.csv\", sep=',', dtype = str)\n",
    "player_box1617 = pd.read_csv(box_path+\"2016-17_playerBoxScore.csv\", sep=',', dtype = str)\n",
    "official_box1617 = pd.read_csv(box_path+\"2016-17_officialBoxScore.csv\", sep=',', dtype = str)\n",
    "standings1617 = pd.read_csv(box_path+\"2016-17_standings.csv\", sep=',', dtype = str)\n",
    "team_box1718 = pd.read_csv(box_path+\"2017-18_teamBoxScore.csv\", sep=',', dtype = str)\n",
    "player_box1718 = pd.read_csv(box_path+\"2017-18_playerBoxScore.csv\", sep=',', dtype = str)\n",
    "official_box1718 = pd.read_csv(box_path+\"2017-18_officialBoxScore.csv\", sep=',', dtype = str)\n",
    "standings1718 = pd.read_csv(box_path+\"2017-18_standings.csv\", sep=',', dtype = str)"
   ]
  },
  {
   "cell_type": "code",
   "execution_count": 67,
   "metadata": {},
   "outputs": [],
   "source": [
    "'''This code readings the recent years team statistics from the scraped web csv. Oddly, the data downloaded with an \n",
    "extra column that had no data that we wanted to collect. In orfer to remove this column, its deleted. It was also necessary\n",
    "to remove the two columns with extra titles and conferences for the following teams. Thus, they are dropped.'''\n",
    "\n",
    "path= \"/Users/dtradke/Documents/CC/Junior_BL8_MachineLearning/final_project/preprocessed_eos_data/\"\n",
    "\n",
    "\n",
    "names = [\"Team\", \"W\", \"L\", 'Pct', 'GB', 'Home', 'Road', \"Conf\", \"Div\", \"Streak\", \"L10\", \"?\"]\n",
    "team_statistics = pd.read_csv(\"./scraping_attempt2.csv\", sep = ',', dtype = str, names = names)\n",
    "del team_statistics['?']\n",
    "team_statistics.drop(0, inplace=True)\n",
    "team_statistics.drop(16, inplace=True)\n",
    "team_statistics['Team'] = team_statistics['Team'].str[2:]\n",
    "team_statistics.iloc[0]['GB'] = 0\n",
    "team_statistics.iloc[15]['GB'] = 0\n",
    "# team_statistics\n",
    "team_statistics.to_csv(path+'scraped_EOS_2017-18.csv')"
   ]
  },
  {
   "cell_type": "code",
   "execution_count": 68,
   "metadata": {
    "collapsed": true
   },
   "outputs": [],
   "source": [
    "not_pre_path = '/Users/dtradke/Documents/CC/Junior_BL8_MachineLearning/final_project/not_preprocessed_data/'\n",
    "\n",
    "\n",
    "team_stats1415 = pd.read_csv(not_pre_path+\"Stats_14-15.csv\", sep = \",\")\n",
    "team_stats1516 = pd.read_csv(not_pre_path+\"./Stats_15-16.csv\", sep = \",\")\n",
    "team_stats1617 = pd.read_csv(not_pre_path+\"./Stats_16-17.csv\", sep = \",\")\n",
    "team_stats1718 = pd.read_csv(not_pre_path+\"./Stats_17-18.csv\", sep = \",\")"
   ]
  },
  {
   "cell_type": "code",
   "execution_count": 69,
   "metadata": {
    "collapsed": true
   },
   "outputs": [],
   "source": [
    "'''GENERATES MISSING GAMES PLAYED COLUMN'''\n",
    "team_stats1415['GP'] = team_stats1415['W'] + team_stats1415['L']\n",
    "team_stats1516['GP'] = team_stats1516['W'] + team_stats1516['L']\n",
    "team_stats1617['GP'] = team_stats1617['W'] + team_stats1617['L']\n",
    "team_stats1718['GP'] = team_stats1718['W'] + team_stats1718['L']"
   ]
  },
  {
   "cell_type": "code",
   "execution_count": 70,
   "metadata": {
    "collapsed": true
   },
   "outputs": [],
   "source": [
    "'''DELETES USELESS \"MIN\" COLUMN... JUST NaN FOR ALL'''\n",
    "del team_stats1415[\"MIN\"]\n",
    "del team_stats1516[\"MIN\"]\n",
    "del team_stats1617[\"MIN\"]\n",
    "del team_stats1718[\"MIN\"]"
   ]
  },
  {
   "cell_type": "code",
   "execution_count": 71,
   "metadata": {},
   "outputs": [],
   "source": [
    "'''THESE ARE THE PREPROCESSED CSVs'''\n",
    "path= \"/Users/dtradke/Documents/CC/Junior_BL8_MachineLearning/final_project/preprocessed_eos_data/\"\n",
    "\n",
    "team_stats1415.to_csv(path+'/team_stats1415.csv')\n",
    "team_stats1516.to_csv(path+'/team_stats1516.csv')\n",
    "team_stats1617.to_csv(path+'/team_stats1617.csv')\n",
    "team_stats1718.to_csv(path+'/team_stats1718.csv')"
   ]
  },
  {
   "cell_type": "code",
   "execution_count": null,
   "metadata": {
    "collapsed": true
   },
   "outputs": [],
   "source": []
  }
 ],
 "metadata": {
  "kernelspec": {
   "display_name": "Python 3",
   "language": "python",
   "name": "python3"
  },
  "language_info": {
   "codemirror_mode": {
    "name": "ipython",
    "version": 3
   },
   "file_extension": ".py",
   "mimetype": "text/x-python",
   "name": "python",
   "nbconvert_exporter": "python",
   "pygments_lexer": "ipython3",
   "version": "3.6.3"
  }
 },
 "nbformat": 4,
 "nbformat_minor": 2
}
