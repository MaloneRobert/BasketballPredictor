{
 "cells": [
  {
   "cell_type": "markdown",
   "metadata": {},
   "source": [
    "# Part 1: Initial Planning\n",
    "\n",
    "## Robert, Dave and Stan\n",
    "--------------------------------------------------------------------------------------------------------------------------------\n",
    "\n",
    "\n",
    "### We hope to predict the winner of the 2018 NBA Playoffs \n",
    "### Collected data from \n",
    "  1. https://www.cbssports.com/nba/standings \n",
    "  2. https://www.kaggle.com/pablote/nba-enhanced-stats \n",
    "  3. https://stats.nba.com/teams/traditional/?sort=W_PCT&dir=-1&Season=2017-18&SeasonType=Regular%20Season \n",
    "                       "
   ]
  },
  {
   "cell_type": "markdown",
   "metadata": {},
   "source": [
    "Import necessary libraries "
   ]
  },
  {
   "cell_type": "code",
   "execution_count": 23,
   "metadata": {
    "collapsed": true
   },
   "outputs": [],
   "source": [
    "import pandas as pd\n",
    "%matplotlib inline\n",
    "from matplotlib import pyplot as plt\n",
    "import numpy as np\n",
    "from scipy.stats import ttest_ind\n",
    "import math"
   ]
  },
  {
   "cell_type": "markdown",
   "metadata": {},
   "source": [
    "Read box statistics from 2016/2017 season and 2017/2018\n",
    "  * Note that these are not yet used"
   ]
  },
  {
   "cell_type": "code",
   "execution_count": 24,
   "metadata": {
    "collapsed": true
   },
   "outputs": [],
   "source": [
    "team_box1617 = pd.read_csv(\"./2016-17_teamBoxScore.csv\", sep=',', dtype = str)\n",
    "player_box1617 = pd.read_csv(\"./2016-17_playerBoxScore.csv\", sep=',', dtype = str)\n",
    "official_box1617 = pd.read_csv(\"./2016-17_officialBoxScore.csv\", sep=',', dtype = str)\n",
    "standings1617 = pd.read_csv(\"./2016-17_standings.csv\", sep=',', dtype = str)\n",
    "team_box1718 = pd.read_csv(\"./2017-18_teamBoxScore.csv\", sep=',', dtype = str)\n",
    "player_box1718 = pd.read_csv(\"./2017-18_playerBoxScore.csv\", sep=',', dtype = str)\n",
    "official_box1718 = pd.read_csv(\"./2017-18_officialBoxScore.csv\", sep=',', dtype = str)\n",
    "standings1718 = pd.read_csv(\"./2017-18_standings.csv\", sep=',', dtype = str)"
   ]
  },
  {
   "cell_type": "markdown",
   "metadata": {},
   "source": [
    "Read csv file that has been scraped from cite 1."
   ]
  },
  {
   "cell_type": "code",
   "execution_count": 25,
   "metadata": {
    "collapsed": true
   },
   "outputs": [],
   "source": [
    "'''This code readings the recent years team statistics from the scraped web csv. Oddly, the data downloaded with an \n",
    "extra column that had no data that we wanted to collect. In orfer to remove this column, its deleted. It was also necessary\n",
    "to remove the two columns with extra titles and conferences for the following teams. Thus, they are dropped.'''\n",
    "\n",
    "names = [\"Team\", \"W\", \"L\", 'Pct', 'GB', 'Home', 'Road', \"Conf\", \"Div\", \"Streak\", \"L10\", \"?\"]\n",
    "team_statistics = pd.read_csv(\"./scraping_attempt2.csv\", sep = ',', dtype = str, names = names)\n",
    "del team_statistics['?']\n",
    "team_statistics.drop(0, inplace=True)\n",
    "team_statistics.drop(16, inplace=True)\n",
    "#team_statistics"
   ]
  },
  {
   "cell_type": "markdown",
   "metadata": {},
   "source": [
    "Read csv files from end of year statistsics from the past 4 years"
   ]
  },
  {
   "cell_type": "code",
   "execution_count": 26,
   "metadata": {
    "collapsed": true
   },
   "outputs": [],
   "source": [
    "team_stats1415 = pd.read_csv(\"./Stats_14-15.csv\", sep = \",\")\n",
    "team_stats1516 = pd.read_csv(\"./Stats_15-16.csv\", sep = \",\")\n",
    "team_stats1617 = pd.read_csv(\"./Stats_16-17.csv\", sep = \",\")\n",
    "team_stats1718 = pd.read_csv(\"./Stats_17-18.csv\", sep = \",\")"
   ]
  },
  {
   "cell_type": "code",
   "execution_count": 27,
   "metadata": {
    "collapsed": true
   },
   "outputs": [],
   "source": [
    "'''GENERATES MISSING GAMES PLAYED COLUMN'''\n",
    "team_stats1415['GP'] = team_stats1415['W'] + team_stats1415['L']\n",
    "team_stats1516['GP'] = team_stats1516['W'] + team_stats1516['L']\n",
    "team_stats1617['GP'] = team_stats1617['W'] + team_stats1617['L']\n",
    "team_stats1718['GP'] = team_stats1718['W'] + team_stats1718['L']"
   ]
  },
  {
   "cell_type": "code",
   "execution_count": 28,
   "metadata": {
    "collapsed": true
   },
   "outputs": [],
   "source": [
    "'''DELETES USELESS \"MIN\" COLUMN... JUST NaN FOR ALL'''\n",
    "del team_stats1415[\"MIN\"]\n",
    "del team_stats1516[\"MIN\"]\n",
    "del team_stats1617[\"MIN\"]\n",
    "del team_stats1718[\"MIN\"]"
   ]
  },
  {
   "cell_type": "code",
   "execution_count": 29,
   "metadata": {},
   "outputs": [
    {
     "name": "stderr",
     "output_type": "stream",
     "text": [
      "/anaconda3/lib/python3.6/site-packages/ipykernel_launcher.py:4: UserWarning: Boolean Series key will be reindexed to match DataFrame index.\n",
      "  after removing the cwd from sys.path.\n"
     ]
    }
   ],
   "source": [
    "'''GENERATES DATAFRAMES OF TEAMS WITH WIN% OVER 60%'''\n",
    "top_teams1415 = team_stats1415[team_stats1415[\"WIN%\"] > .6]\n",
    "top_teams1516 = team_stats1516[team_stats1516[\"WIN%\"] > .6]\n",
    "top_teams1617 = team_stats1516[team_stats1617[\"WIN%\"] > .6]\n",
    "top_teams1718 = team_stats1516[team_stats1718[\"WIN%\"] > .6]"
   ]
  },
  {
   "cell_type": "code",
   "execution_count": 60,
   "metadata": {
    "collapsed": true
   },
   "outputs": [],
   "source": [
    "'''TRIMS COLUMNS OF TOP TEAMS TO FOCUS ON \"TEAM\", \"W\", \"L\", \"WIN%\", \"PTS\"'''\n",
    "top_team_stats_1415 = top_teams1415[[\"TEAM\", \"W\", \"L\", \"WIN%\", \"PTS\"]]\n",
    "top_team_stats_1516 = top_teams1516[[\"TEAM\", \"W\", \"L\", \"WIN%\", \"PTS\"]]\n",
    "top_team_stats_1617 = top_teams1617[[\"TEAM\", \"W\", \"L\", \"WIN%\", \"PTS\"]]\n",
    "top_team_stats_1718 = top_teams1718[[\"TEAM\", \"W\", \"L\", \"WIN%\", \"PTS\"]]"
   ]
  },
  {
   "cell_type": "markdown",
   "metadata": {},
   "source": [
    "Scatter plot for WIN% VS 3PM in regular season\n",
    "Clearly the teams made really low 3-pointers having low win%\n",
    "However, above the certain line, 3-pointers obviously was not the only critical factor affecting win%."
   ]
  },
  {
   "cell_type": "code",
   "execution_count": 74,
   "metadata": {},
   "outputs": [
    {
     "data": {
      "text/plain": [
       "<matplotlib.axes._subplots.AxesSubplot at 0x1a0e669160>"
      ]
     },
     "execution_count": 74,
     "metadata": {},
     "output_type": "execute_result"
    },
    {
     "data": {
      "image/png": "[encoded data removed]",
      "text/plain": [
       "<matplotlib.figure.Figure at 0x1a0fcc82e8>"
      ]
     },
     "metadata": {},
     "output_type": "display_data"
    }
   ],
   "source": [
    "'''THIS BUILDS THE SCATTER PLOT SHOWING 3-POINTERS MADE AND WIN %'''\n",
    "scat_1617 = team_stats1617[[\"TEAM\", \"WIN%\", \"3PM\"]]\n",
    "scat_1617.plot(x='3PM', y='WIN%', kind='scatter')"
   ]
  },
  {
   "cell_type": "code",
   "execution_count": 75,
   "metadata": {},
   "outputs": [
    {
     "data": {
      "text/plain": [
       "<matplotlib.axes._subplots.AxesSubplot at 0x1a0ff31b00>"
      ]
     },
     "execution_count": 75,
     "metadata": {},
     "output_type": "execute_result"
    },
    {
     "data": {
      "image/png": "[encoded data removed]",
      "text/plain": [
       "<matplotlib.figure.Figure at 0x1a0e621860>"
      ]
     },
     "metadata": {},
     "output_type": "display_data"
    }
   ],
   "source": [
    "'''THIS PLOTS TEAMS WITH WIN% > 60%'''\n",
    "top_team_stats_1415.plot(figsize = (15, 5), kind=\"bar\", grid = True)"
   ]
  },
  {
   "cell_type": "code",
   "execution_count": 78,
   "metadata": {},
   "outputs": [
    {
     "data": {
      "text/html": [
       "<div>\n",
       "<style>\n",
       "    .dataframe thead tr:only-child th {\n",
       "        text-align: right;\n",
       "    }\n",
       "\n",
       "    .dataframe thead th {\n",
       "        text-align: left;\n",
       "    }\n",
       "\n",
       "    .dataframe tbody tr th {\n",
       "        vertical-align: top;\n",
       "    }\n",
       "</style>\n",
       "<table border=\"1\" class=\"dataframe\">\n",
       "  <thead>\n",
       "    <tr style=\"text-align: right;\">\n",
       "      <th></th>\n",
       "      <th>TEAM</th>\n",
       "      <th>GP</th>\n",
       "      <th>W</th>\n",
       "      <th>L</th>\n",
       "      <th>WIN%</th>\n",
       "      <th>PTS</th>\n",
       "      <th>FGM</th>\n",
       "      <th>FGA</th>\n",
       "      <th>FG%</th>\n",
       "      <th>3PM</th>\n",
       "      <th>...</th>\n",
       "      <th>DREB</th>\n",
       "      <th>REB</th>\n",
       "      <th>AST</th>\n",
       "      <th>TOV</th>\n",
       "      <th>STL</th>\n",
       "      <th>BLK</th>\n",
       "      <th>BLKA</th>\n",
       "      <th>PF</th>\n",
       "      <th>PFD</th>\n",
       "      <th>PLUS/MINUS</th>\n",
       "    </tr>\n",
       "  </thead>\n",
       "  <tbody>\n",
       "    <tr>\n",
       "      <th>0</th>\n",
       "      <td>Golden_State_Warriors</td>\n",
       "      <td>82</td>\n",
       "      <td>67</td>\n",
       "      <td>15</td>\n",
       "      <td>0.817</td>\n",
       "      <td>115.9</td>\n",
       "      <td>43.1</td>\n",
       "      <td>87.1</td>\n",
       "      <td>49.5</td>\n",
       "      <td>12.0</td>\n",
       "      <td>...</td>\n",
       "      <td>35.0</td>\n",
       "      <td>44.4</td>\n",
       "      <td>30.4</td>\n",
       "      <td>14.8</td>\n",
       "      <td>9.6</td>\n",
       "      <td>6.8</td>\n",
       "      <td>3.8</td>\n",
       "      <td>19.3</td>\n",
       "      <td>19.4</td>\n",
       "      <td>11.6</td>\n",
       "    </tr>\n",
       "    <tr>\n",
       "      <th>6</th>\n",
       "      <td>Cleveland_Cavaliers</td>\n",
       "      <td>82</td>\n",
       "      <td>51</td>\n",
       "      <td>31</td>\n",
       "      <td>0.622</td>\n",
       "      <td>110.3</td>\n",
       "      <td>39.9</td>\n",
       "      <td>84.9</td>\n",
       "      <td>47.0</td>\n",
       "      <td>13.0</td>\n",
       "      <td>...</td>\n",
       "      <td>34.4</td>\n",
       "      <td>43.7</td>\n",
       "      <td>22.7</td>\n",
       "      <td>13.7</td>\n",
       "      <td>6.6</td>\n",
       "      <td>4.0</td>\n",
       "      <td>4.3</td>\n",
       "      <td>18.1</td>\n",
       "      <td>20.6</td>\n",
       "      <td>3.2</td>\n",
       "    </tr>\n",
       "  </tbody>\n",
       "</table>\n",
       "<p>2 rows × 26 columns</p>\n",
       "</div>"
      ],
      "text/plain": [
       "                    TEAM  GP   W   L   WIN%    PTS   FGM   FGA   FG%   3PM  \\\n",
       "0  Golden_State_Warriors  82  67  15  0.817  115.9  43.1  87.1  49.5  12.0   \n",
       "6    Cleveland_Cavaliers  82  51  31  0.622  110.3  39.9  84.9  47.0  13.0   \n",
       "\n",
       "      ...      DREB   REB   AST   TOV  STL  BLK  BLKA    PF   PFD  PLUS/MINUS  \n",
       "0     ...      35.0  44.4  30.4  14.8  9.6  6.8   3.8  19.3  19.4        11.6  \n",
       "6     ...      34.4  43.7  22.7  13.7  6.6  4.0   4.3  18.1  20.6         3.2  \n",
       "\n",
       "[2 rows x 26 columns]"
      ]
     },
     "execution_count": 78,
     "metadata": {},
     "output_type": "execute_result"
    }
   ],
   "source": [
    "'''THIS IS TO PLOT THE 2017 FINALS STATS'''\n",
    "gs_1617 = team_stats1617[team_stats1617['TEAM'] == 'Golden_State_Warriors']\n",
    "cc_1617 = team_stats1617[team_stats1617['TEAM'] == 'Cleveland_Cavaliers']\n",
    "frames = [gs_1617, cc_1617]\n",
    "finals_1617 = pd.concat(frames)\n",
    "finals_1617\n",
    "# finals_1617[\"Win%_*_100\"] = finals_1617[\"WIN%\"] * 100\n",
    "# finals_stats_1617 = finals_1617[[\"TEAM\",\"Win%_*_100\", \"PTS\", \"FGM\", \"FGA\", \"3PM\", \"3PA\"]]\n",
    "# finals_stats_1617.plot(figsize = (15, 5), kind=\"bar\", grid = True)"
   ]
  },
  {
   "cell_type": "code",
   "execution_count": 80,
   "metadata": {},
   "outputs": [
    {
     "data": {
      "text/plain": [
       "<matplotlib.axes._subplots.AxesSubplot at 0x1a0fde1f60>"
      ]
     },
     "execution_count": 80,
     "metadata": {},
     "output_type": "execute_result"
    },
    {
     "data": {
      "image/png": "[encoded data removed]",
      "text/plain": [
       "<matplotlib.figure.Figure at 0x1a108bfac8>"
      ]
     },
     "metadata": {},
     "output_type": "display_data"
    }
   ],
   "source": [
    "'''THIS IS TO PLOT THE 2016 FINALS STATS'''\n",
    "gs_1516 = team_stats1516[team_stats1516['TEAM'] == 'Golden_State_Warriors']\n",
    "cc_1516 = team_stats1516[team_stats1516['TEAM'] == 'Cleveland_Cavaliers']\n",
    "frames = [gs_1516, cc_1516]\n",
    "finals_1516 = pd.concat(frames)\n",
    "# finals_1516\n",
    "finals_1516[\"Win%_*_100\"] = finals_1516[\"WIN%\"] * 100\n",
    "finals_stats_1516 = finals_1516[[\"TEAM\",\"Win%_*_100\", \"OREB\", \"DREB\", \"AST\", \"PF\"]]\n",
    "finals_stats_1516.plot(figsize = (15, 5), kind=\"bar\", grid = True)"
   ]
  },
  {
   "cell_type": "code",
   "execution_count": null,
   "metadata": {
    "collapsed": true
   },
   "outputs": [],
   "source": []
  }
 ],
 "metadata": {
  "kernelspec": {
   "display_name": "Python 3",
   "language": "python",
   "name": "python3"
  },
  "language_info": {
   "codemirror_mode": {
    "name": "ipython",
    "version": 3
   },
   "file_extension": ".py",
   "mimetype": "text/x-python",
   "name": "python",
   "nbconvert_exporter": "python",
   "pygments_lexer": "ipython3",
   "version": "3.6.4"
  }
 },
 "nbformat": 4,
 "nbformat_minor": 2
}
