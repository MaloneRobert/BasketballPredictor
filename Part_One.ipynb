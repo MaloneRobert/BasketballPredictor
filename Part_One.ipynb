{
 "cells": [
  {
   "cell_type": "markdown",
   "metadata": {},
   "source": [
    "# Part 1: Initial Planning\n",
    "\n",
    "## Robert, Dave and Stan\n",
    "--------------------------------------------------------------------------------------------------------------------------------\n",
    "\n",
    "\n",
    "### We hope to predict the winner of the 2018 NBA Playoffs \n",
    "### Collected data from \n",
    "  1. https://www.cbssports.com/nba/standings \n",
    "  2. https://www.kaggle.com/pablote/nba-enhanced-stats \n",
    "  3. https://stats.nba.com/teams/traditional/?sort=W_PCT&dir=-1&Season=2017-18&SeasonType=Regular%20Season \n",
    "                       "
   ]
  },
  {
   "cell_type": "markdown",
   "metadata": {},
   "source": [
    "Question: Can we predict, using statistics from the regular season, the outcome of the playoffs. We want to investigate if we can successfully have a model that identifies key features in a winning team and then can predict future winners. The plan is to have the model train on statistics from previous seasons and associate those with the teams that won, and then run the statistics from this past current season to see who will win the playoffs. "
   ]
  },
  {
   "cell_type": "markdown",
   "metadata": {},
   "source": [
    "Import necessary libraries "
   ]
  },
  {
   "cell_type": "code",
   "execution_count": 6,
   "metadata": {},
   "outputs": [],
   "source": [
    "import pandas as pd\n",
    "%matplotlib inline\n",
    "from matplotlib import pyplot as plt\n",
    "import numpy as np\n",
    "from scipy.stats import ttest_ind\n",
    "import math"
   ]
  },
  {
   "cell_type": "markdown",
   "metadata": {},
   "source": [
    "Read box statistics from 2016/2017 season and 2017/2018\n",
    "  * Note that these are not yet used"
   ]
  },
  {
   "cell_type": "code",
   "execution_count": 27,
   "metadata": {},
   "outputs": [],
   "source": [
    "team_box1617 = pd.read_csv(\"./2016-17_teamBoxScore.csv\", sep=',', dtype = str)\n",
    "player_box1617 = pd.read_csv(\"./2016-17_playerBoxScore.csv\", sep=',', dtype = str)\n",
    "official_box1617 = pd.read_csv(\"./2016-17_officialBoxScore.csv\", sep=',', dtype = str)\n",
    "standings1617 = pd.read_csv(\"./2016-17_standings.csv\", sep=',', dtype = str)\n",
    "team_box1718 = pd.read_csv(\"./2017-18_teamBoxScore.csv\", sep=',', dtype = str)\n",
    "player_box1718 = pd.read_csv(\"./2017-18_playerBoxScore.csv\", sep=',', dtype = str)\n",
    "official_box1718 = pd.read_csv(\"./2017-18_officialBoxScore.csv\", sep=',', dtype = str)\n",
    "standings1718 = pd.read_csv(\"./2017-18_standings.csv\", sep=',', dtype = str)"
   ]
  },
  {
   "cell_type": "markdown",
   "metadata": {},
   "source": [
    "Below we are attempting to understand the box player statistics, it is difficult to understand exactly what these are because \n",
    "we cannot divide it into teams, we will continue to investigate this more for the next deliverable."
   ]
  },
  {
   "cell_type": "code",
   "execution_count": 26,
   "metadata": {
    "scrolled": true
   },
   "outputs": [
    {
     "data": {
      "text/html": [
       "<div>\n",
       "<style scoped>\n",
       "    .dataframe tbody tr th:only-of-type {\n",
       "        vertical-align: middle;\n",
       "    }\n",
       "\n",
       "    .dataframe tbody tr th {\n",
       "        vertical-align: top;\n",
       "    }\n",
       "\n",
       "    .dataframe thead th {\n",
       "        text-align: right;\n",
       "    }\n",
       "</style>\n",
       "<table border=\"1\" class=\"dataframe\">\n",
       "  <thead>\n",
       "    <tr style=\"text-align: right;\">\n",
       "      <th></th>\n",
       "      <th>gmDate</th>\n",
       "      <th>gmTime</th>\n",
       "      <th>seasTyp</th>\n",
       "      <th>playLNm</th>\n",
       "      <th>playFNm</th>\n",
       "      <th>teamAbbr</th>\n",
       "      <th>teamConf</th>\n",
       "      <th>teamDiv</th>\n",
       "      <th>teamLoc</th>\n",
       "      <th>teamRslt</th>\n",
       "      <th>...</th>\n",
       "      <th>playFT%</th>\n",
       "      <th>playORB</th>\n",
       "      <th>playDRB</th>\n",
       "      <th>playTRB</th>\n",
       "      <th>opptAbbr</th>\n",
       "      <th>opptConf</th>\n",
       "      <th>opptDiv</th>\n",
       "      <th>opptLoc</th>\n",
       "      <th>opptRslt</th>\n",
       "      <th>opptDayOff</th>\n",
       "    </tr>\n",
       "  </thead>\n",
       "  <tbody>\n",
       "    <tr>\n",
       "      <th>59</th>\n",
       "      <td>2016-10-25</td>\n",
       "      <td>10:30</td>\n",
       "      <td>Regular</td>\n",
       "      <td>Durant</td>\n",
       "      <td>Kevin</td>\n",
       "      <td>GS</td>\n",
       "      <td>West</td>\n",
       "      <td>Pacific</td>\n",
       "      <td>Home</td>\n",
       "      <td>Loss</td>\n",
       "      <td>...</td>\n",
       "      <td>0.8</td>\n",
       "      <td>0</td>\n",
       "      <td>10</td>\n",
       "      <td>10</td>\n",
       "      <td>SA</td>\n",
       "      <td>West</td>\n",
       "      <td>Southwest</td>\n",
       "      <td>Away</td>\n",
       "      <td>Win</td>\n",
       "      <td>0</td>\n",
       "    </tr>\n",
       "    <tr>\n",
       "      <th>60</th>\n",
       "      <td>2016-10-25</td>\n",
       "      <td>10:30</td>\n",
       "      <td>Regular</td>\n",
       "      <td>Curry</td>\n",
       "      <td>Wardell</td>\n",
       "      <td>GS</td>\n",
       "      <td>West</td>\n",
       "      <td>Pacific</td>\n",
       "      <td>Home</td>\n",
       "      <td>Loss</td>\n",
       "      <td>...</td>\n",
       "      <td>0.8333</td>\n",
       "      <td>0</td>\n",
       "      <td>3</td>\n",
       "      <td>3</td>\n",
       "      <td>SA</td>\n",
       "      <td>West</td>\n",
       "      <td>Southwest</td>\n",
       "      <td>Away</td>\n",
       "      <td>Win</td>\n",
       "      <td>0</td>\n",
       "    </tr>\n",
       "    <tr>\n",
       "      <th>61</th>\n",
       "      <td>2016-10-25</td>\n",
       "      <td>10:30</td>\n",
       "      <td>Regular</td>\n",
       "      <td>Thompson</td>\n",
       "      <td>Klay</td>\n",
       "      <td>GS</td>\n",
       "      <td>West</td>\n",
       "      <td>Pacific</td>\n",
       "      <td>Home</td>\n",
       "      <td>Loss</td>\n",
       "      <td>...</td>\n",
       "      <td>0.0</td>\n",
       "      <td>0</td>\n",
       "      <td>1</td>\n",
       "      <td>1</td>\n",
       "      <td>SA</td>\n",
       "      <td>West</td>\n",
       "      <td>Southwest</td>\n",
       "      <td>Away</td>\n",
       "      <td>Win</td>\n",
       "      <td>0</td>\n",
       "    </tr>\n",
       "    <tr>\n",
       "      <th>62</th>\n",
       "      <td>2016-10-25</td>\n",
       "      <td>10:30</td>\n",
       "      <td>Regular</td>\n",
       "      <td>Green</td>\n",
       "      <td>Draymond</td>\n",
       "      <td>GS</td>\n",
       "      <td>West</td>\n",
       "      <td>Pacific</td>\n",
       "      <td>Home</td>\n",
       "      <td>Loss</td>\n",
       "      <td>...</td>\n",
       "      <td>1.0</td>\n",
       "      <td>5</td>\n",
       "      <td>7</td>\n",
       "      <td>12</td>\n",
       "      <td>SA</td>\n",
       "      <td>West</td>\n",
       "      <td>Southwest</td>\n",
       "      <td>Away</td>\n",
       "      <td>Win</td>\n",
       "      <td>0</td>\n",
       "    </tr>\n",
       "    <tr>\n",
       "      <th>63</th>\n",
       "      <td>2016-10-25</td>\n",
       "      <td>10:30</td>\n",
       "      <td>Regular</td>\n",
       "      <td>Pachulia</td>\n",
       "      <td>Zaza</td>\n",
       "      <td>GS</td>\n",
       "      <td>West</td>\n",
       "      <td>Pacific</td>\n",
       "      <td>Home</td>\n",
       "      <td>Loss</td>\n",
       "      <td>...</td>\n",
       "      <td>0.0</td>\n",
       "      <td>1</td>\n",
       "      <td>2</td>\n",
       "      <td>3</td>\n",
       "      <td>SA</td>\n",
       "      <td>West</td>\n",
       "      <td>Southwest</td>\n",
       "      <td>Away</td>\n",
       "      <td>Win</td>\n",
       "      <td>0</td>\n",
       "    </tr>\n",
       "  </tbody>\n",
       "</table>\n",
       "<p>5 rows × 51 columns</p>\n",
       "</div>"
      ],
      "text/plain": [
       "        gmDate gmTime  seasTyp   playLNm   playFNm teamAbbr teamConf  teamDiv  \\\n",
       "59  2016-10-25  10:30  Regular    Durant     Kevin       GS     West  Pacific   \n",
       "60  2016-10-25  10:30  Regular     Curry   Wardell       GS     West  Pacific   \n",
       "61  2016-10-25  10:30  Regular  Thompson      Klay       GS     West  Pacific   \n",
       "62  2016-10-25  10:30  Regular     Green  Draymond       GS     West  Pacific   \n",
       "63  2016-10-25  10:30  Regular  Pachulia      Zaza       GS     West  Pacific   \n",
       "\n",
       "   teamLoc teamRslt    ...     playFT% playORB playDRB playTRB opptAbbr  \\\n",
       "59    Home     Loss    ...         0.8       0      10      10       SA   \n",
       "60    Home     Loss    ...      0.8333       0       3       3       SA   \n",
       "61    Home     Loss    ...         0.0       0       1       1       SA   \n",
       "62    Home     Loss    ...         1.0       5       7      12       SA   \n",
       "63    Home     Loss    ...         0.0       1       2       3       SA   \n",
       "\n",
       "   opptConf    opptDiv opptLoc opptRslt opptDayOff  \n",
       "59     West  Southwest    Away      Win          0  \n",
       "60     West  Southwest    Away      Win          0  \n",
       "61     West  Southwest    Away      Win          0  \n",
       "62     West  Southwest    Away      Win          0  \n",
       "63     West  Southwest    Away      Win          0  \n",
       "\n",
       "[5 rows x 51 columns]"
      ]
     },
     "execution_count": 26,
     "metadata": {},
     "output_type": "execute_result"
    }
   ],
   "source": [
    "player_box1617 = player_box1617[player_box1617[\"teamAbbr\"] == 'GS']\n",
    "player_box1617.head()"
   ]
  },
  {
   "cell_type": "markdown",
   "metadata": {},
   "source": [
    "Read csv file that has been scraped from cite 1.\n",
    "  * The data that we scraped came with some issues. First of all there was a column with no information that needed to be deleted. As well as two columns representing the conference names. This cleaning occurs in the code below."
   ]
  },
  {
   "cell_type": "code",
   "execution_count": 8,
   "metadata": {},
   "outputs": [],
   "source": [
    "'''This code readings the recent years team statistics from the scraped web csv. Oddly, the data downloaded with an \n",
    "extra column that had no data that we wanted to collect. In orfer to remove this column, its deleted. It was also necessary\n",
    "to remove the two columns with extra titles and conferences for the following teams. Thus, they are dropped.'''\n",
    "\n",
    "names = [\"Team\", \"W\", \"L\", 'Pct', 'GB', 'Home', 'Road', \"Conf\", \"Div\", \"Streak\", \"L10\", \"?\"]\n",
    "team_statistics = pd.read_csv(\"./scraping_attempt2.csv\", sep = ',', dtype = str, names = names)\n",
    "del team_statistics['?']\n",
    "team_statistics.drop(0, inplace=True)\n",
    "team_statistics.drop(16, inplace=True)\n",
    "#team_statistics"
   ]
  },
  {
   "cell_type": "markdown",
   "metadata": {},
   "source": [
    "Read csv files from end of year statistsics from the past 4 years"
   ]
  },
  {
   "cell_type": "code",
   "execution_count": 9,
   "metadata": {},
   "outputs": [],
   "source": [
    "team_stats1415 = pd.read_csv(\"./Stats_14-15.csv\", sep = \",\")\n",
    "team_stats1516 = pd.read_csv(\"./Stats_15-16.csv\", sep = \",\")\n",
    "team_stats1617 = pd.read_csv(\"./Stats_16-17.csv\", sep = \",\")\n",
    "team_stats1718 = pd.read_csv(\"./Stats_17-18.csv\", sep = \",\")"
   ]
  },
  {
   "cell_type": "markdown",
   "metadata": {},
   "source": [
    "Data Munging: Here we needed to do an addition so that we can have to total number of games played within the dataframe. \n",
    "    Hence we add the number of wins and the number of losses. Further below we delete a column that is useless in the table. It is full of NaN. Finally, we want to get the top teams from each year. We decide that the top teams will be identified with a winning percent above 60%."
   ]
  },
  {
   "cell_type": "code",
   "execution_count": 10,
   "metadata": {},
   "outputs": [],
   "source": [
    "'''GENERATES MISSING GAMES PLAYED COLUMN'''\n",
    "team_stats1415['GP'] = team_stats1415['W'] + team_stats1415['L']\n",
    "team_stats1516['GP'] = team_stats1516['W'] + team_stats1516['L']\n",
    "team_stats1617['GP'] = team_stats1617['W'] + team_stats1617['L']\n",
    "team_stats1718['GP'] = team_stats1718['W'] + team_stats1718['L']"
   ]
  },
  {
   "cell_type": "code",
   "execution_count": 11,
   "metadata": {},
   "outputs": [],
   "source": [
    "'''DELETES USELESS \"MIN\" COLUMN... JUST NaN FOR ALL'''\n",
    "del team_stats1415[\"MIN\"]\n",
    "del team_stats1516[\"MIN\"]\n",
    "del team_stats1617[\"MIN\"]\n",
    "del team_stats1718[\"MIN\"]"
   ]
  },
  {
   "cell_type": "code",
   "execution_count": 12,
   "metadata": {},
   "outputs": [
    {
     "name": "stderr",
     "output_type": "stream",
     "text": [
      "C:\\Users\\Robert\\Anaconda\\lib\\site-packages\\ipykernel_launcher.py:5: UserWarning: Boolean Series key will be reindexed to match DataFrame index.\n",
      "  \"\"\"\n"
     ]
    }
   ],
   "source": [
    "'''GENERATES DATAFRAMES OF TEAMS WITH WIN% OVER 60%'''\n",
    "top_teams1415 = team_stats1415[team_stats1415[\"WIN%\"] > .6]\n",
    "top_teams1516 = team_stats1516[team_stats1516[\"WIN%\"] > .6]\n",
    "top_teams1617 = team_stats1516[team_stats1617[\"WIN%\"] > .6]\n",
    "top_teams1718 = team_stats1516[team_stats1718[\"WIN%\"] > .6]"
   ]
  },
  {
   "cell_type": "code",
   "execution_count": 13,
   "metadata": {},
   "outputs": [],
   "source": [
    "'''TRIMS COLUMNS OF TOP TEAMS TO FOCUS ON \"TEAM\", \"W\", \"L\", \"WIN%\", \"PTS\"'''\n",
    "top_team_stats_1415 = top_teams1415[[\"TEAM\", \"W\", \"L\", \"WIN%\", \"PTS\"]]\n",
    "top_team_stats_1516 = top_teams1516[[\"TEAM\", \"W\", \"L\", \"WIN%\", \"PTS\"]]\n",
    "top_team_stats_1617 = top_teams1617[[\"TEAM\", \"W\", \"L\", \"WIN%\", \"PTS\"]]\n",
    "top_team_stats_1718 = top_teams1718[[\"TEAM\", \"W\", \"L\", \"WIN%\", \"PTS\"]]"
   ]
  },
  {
   "cell_type": "markdown",
   "metadata": {},
   "source": [
    "Scatter plot for WIN% VS 3PM in regular season\n",
    "Clearly the teams made really low 3-pointers having low win%\n",
    "However, above the certain line, 3-pointers obviously was not the only critical factor affecting win%."
   ]
  },
  {
   "cell_type": "code",
   "execution_count": 14,
   "metadata": {},
   "outputs": [
    {
     "data": {
      "text/plain": [
       "<matplotlib.axes._subplots.AxesSubplot at 0x1a546de9e48>"
      ]
     },
     "execution_count": 14,
     "metadata": {},
     "output_type": "execute_result"
    },
    {
     "data": {
      "image/png": "[encoded data removed]",
      "text/plain": [
       "<matplotlib.figure.Figure at 0x1a546fd4940>"
      ]
     },
     "metadata": {},
     "output_type": "display_data"
    }
   ],
   "source": [
    "'''THIS BUILDS THE SCATTER PLOT SHOWING 3-POINTERS MADE AND WIN %'''\n",
    "scat_1617 = team_stats1617[[\"TEAM\", \"WIN%\", \"3PM\"]]\n",
    "scat_1617.plot(x='3PM', y='WIN%', kind='scatter')"
   ]
  },
  {
   "cell_type": "markdown",
   "metadata": {},
   "source": [
    "The bar chart below is representing all teams with a win percentage above 60%. The teams are in decreasing over starting from the left and going to the right. The goal is to visualize if average points scored in a game is correlated with the number of wins. "
   ]
  },
  {
   "cell_type": "code",
   "execution_count": null,
   "metadata": {},
   "outputs": [],
   "source": [
    "'''THIS PLOTS TEAMS WITH WIN% > 60%'''\n",
    "top_team_stats_1415.plot(figsize = (15, 5), kind=\"bar\", grid = True)"
   ]
  },
  {
   "cell_type": "markdown",
   "metadata": {},
   "source": [
    "Below we are investigating again the statistics from the two teams who played in the final. It is evident that the Golden State Warriors were better in a number of statistics including win percentage, field goals made, and 3 point attempts. This is \n",
    "significant because there is a possibility that those statistics can be associated with a winning team. We will want to investigate this more and in more of the past years to establish stronger reliability. "
   ]
  },
  {
   "cell_type": "code",
   "execution_count": 18,
   "metadata": {},
   "outputs": [
    {
     "data": {
      "text/plain": [
       "<matplotlib.axes._subplots.AxesSubplot at 0x1a546fa21d0>"
      ]
     },
     "execution_count": 18,
     "metadata": {},
     "output_type": "execute_result"
    },
    {
     "data": {
      "image/png": "[encoded data removed]",
      "text/plain": [
       "<matplotlib.figure.Figure at 0x1a546f75898>"
      ]
     },
     "metadata": {},
     "output_type": "display_data"
    }
   ],
   "source": [
    "'''THIS IS TO PLOT THE 2017 FINALS STATS'''\n",
    "gs_1617 = team_stats1617[team_stats1617['TEAM'] == 'Golden_State_Warriors']\n",
    "cc_1617 = team_stats1617[team_stats1617['TEAM'] == 'Cleveland_Cavaliers']\n",
    "frames = [gs_1617, cc_1617]\n",
    "#finals_1617 = pd.concat(frames)\n",
    "#finals_1617\n",
    "finals_1617[\"Win%_*_100\"] = finals_1617[\"WIN%\"] * 100\n",
    "finals_stats_1617 = finals_1617[[\"TEAM\",\"Win%_*_100\", \"PTS\", \"FGM\", \"FGA\", \"3PM\", \"3PA\"]]\n",
    "finals_stats_1617.plot(figsize = (15, 5), kind=\"bar\", grid = True)"
   ]
  },
  {
   "cell_type": "markdown",
   "metadata": {},
   "source": [
    "The stats below are for both teams from regular season.\n",
    "Clearly Cleveland Cavaliers are losing in each stat, however, they won the match up.\n",
    "We would like to consider the match up as an outliar. And the possible cause would be the explosion of certain players. In this case, they are Lebron James and Kyrie Irving.\n",
    "We would not take certain players into consideration since it would be much more complicated , also the players' stats are not easily accesible, and players change teams every year."
   ]
  },
  {
   "cell_type": "code",
   "execution_count": 17,
   "metadata": {},
   "outputs": [
    {
     "data": {
      "text/plain": [
       "<matplotlib.axes._subplots.AxesSubplot at 0x1a546f4edd8>"
      ]
     },
     "execution_count": 17,
     "metadata": {},
     "output_type": "execute_result"
    },
    {
     "data": {
      "image/png": "[encoded data removed]",
      "text/plain": [
       "<matplotlib.figure.Figure at 0x1a546f235f8>"
      ]
     },
     "metadata": {},
     "output_type": "display_data"
    }
   ],
   "source": [
    "'''THIS IS TO PLOT THE 2016 FINALS STATS'''\n",
    "gs_1516 = team_stats1516[team_stats1516['TEAM'] == 'Golden_State_Warriors']\n",
    "cc_1516 = team_stats1516[team_stats1516['TEAM'] == 'Cleveland_Cavaliers']\n",
    "frames = [gs_1516, cc_1516]\n",
    "finals_1516 = pd.concat(frames)\n",
    "# finals_1516\n",
    "finals_1516[\"Win%_*_100\"] = finals_1516[\"WIN%\"] * 100\n",
    "finals_stats_1516 = finals_1516[[\"TEAM\",\"Win%_*_100\", \"OREB\", \"DREB\", \"AST\", \"PF\"]]\n",
    "finals_stats_1516.plot(figsize = (15, 5), kind=\"bar\", grid = True)"
   ]
  },
  {
   "cell_type": "markdown",
   "metadata": {
    "collapsed": true
   },
   "source": []
  }
 ],
 "metadata": {
  "kernelspec": {
   "display_name": "Python 3",
   "language": "python",
   "name": "python3"
  },
  "language_info": {
   "codemirror_mode": {
    "name": "ipython",
    "version": 3
   },
   "file_extension": ".py",
   "mimetype": "text/x-python",
   "name": "python",
   "nbconvert_exporter": "python",
   "pygments_lexer": "ipython3",
   "version": "3.6.4"
  }
 },
 "nbformat": 4,
 "nbformat_minor": 2
}
