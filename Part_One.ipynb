{
 "cells": [
  {
   "cell_type": "markdown",
   "metadata": {},
   "source": [
    "# Part 1: Initial Planning\n",
    "\n",
    "## Robert, Dave and Stan\n",
    "--------------------------------------------------------------------------------------------------------------------------------\n",
    "\n",
    "\n",
    "### We hope to predict the winner of the 2018 NBA Playoffs \n",
    "### Collected data from \n",
    "  1. https://www.cbssports.com/nba/standings \n",
    "  2. https://www.kaggle.com/pablote/nba-enhanced-stats \n",
    "  3. https://stats.nba.com/teams/traditional/?sort=W_PCT&dir=-1&Season=2017-18&SeasonType=Regular%20Season \n",
    "                       "
   ]
  },
  {
   "cell_type": "markdown",
   "metadata": {},
   "source": [
    "Import necessary libraries "
   ]
  },
  {
   "cell_type": "code",
   "execution_count": 2,
   "metadata": {},
   "outputs": [],
   "source": [
    "import pandas as pd\n",
    "%matplotlib inline\n",
    "from matplotlib import pyplot as plt\n",
    "import numpy as np\n",
    "from scipy.stats import ttest_ind\n",
    "import math"
   ]
  },
  {
   "cell_type": "markdown",
   "metadata": {},
   "source": [
    "Read box statistics from 2016/2017 season and 2017/2018"
   ]
  },
  {
   "cell_type": "code",
   "execution_count": 3,
   "metadata": {},
   "outputs": [],
   "source": [
    "team_box1617 = pd.read_csv(\"./2016-17_teamBoxScore.csv\", sep=',', dtype = str)\n",
    "player_box1617 = pd.read_csv(\"./2016-17_playerBoxScore.csv\", sep=',', dtype = str)\n",
    "official_box1617 = pd.read_csv(\"./2016-17_officialBoxScore.csv\", sep=',', dtype = str)\n",
    "standings1617 = pd.read_csv(\"./2016-17_standings.csv\", sep=',', dtype = str)\n",
    "team_box1718 = pd.read_csv(\"./2017-18_teamBoxScore.csv\", sep=',', dtype = str)\n",
    "player_box1718 = pd.read_csv(\"./2017-18_playerBoxScore.csv\", sep=',', dtype = str)\n",
    "official_box1718 = pd.read_csv(\"./2017-18_officialBoxScore.csv\", sep=',', dtype = str)\n",
    "standings1718 = pd.read_csv(\"./2017-18_standings.csv\", sep=',', dtype = str)"
   ]
  },
  {
   "cell_type": "markdown",
   "metadata": {},
   "source": [
    "Read csv file that has been scraped from cite 1."
   ]
  },
  {
   "cell_type": "code",
   "execution_count": 10,
   "metadata": {},
   "outputs": [],
   "source": [
    "names = [\"Team\", \"W\", \"L\", 'Pct', 'GB', 'Home', 'Road', \"Conf\", \"Div\", \"Streak\", \"L10\", \"?\"]\n",
    "team_statistics = pd.read_csv(\"./scraping_attempt2.csv\", sep = ',', dtype = str, names = names)\n",
    "del team_statistics['?']\n",
    "team_statistics.drop(0, inplace=True)\n",
    "team_statistics.drop(16, inplace=True)\n",
    "#team_statistics"
   ]
  },
  {
   "cell_type": "markdown",
   "metadata": {},
   "source": [
    "Read csv files from end of year statistsics from the past 4 years"
   ]
  },
  {
   "cell_type": "code",
   "execution_count": 11,
   "metadata": {},
   "outputs": [],
   "source": [
    "team_stats1415 = pd.read_csv(\"./Stats_14-15.csv\", sep = \",\")\n",
    "team_stats1516 = pd.read_csv(\"./Stats_15-16.csv\", sep = \",\")\n",
    "team_stats1617 = pd.read_csv(\"./Stats_16-17.csv\", sep = \",\")\n",
    "team_stats1718 = pd.read_csv(\"./Stats_17-18.csv\", sep = \",\")"
   ]
  },
  {
   "cell_type": "code",
   "execution_count": null,
   "metadata": {},
   "outputs": [],
   "source": []
  }
 ],
 "metadata": {
  "kernelspec": {
   "display_name": "Python 3",
   "language": "python",
   "name": "python3"
  },
  "language_info": {
   "codemirror_mode": {
    "name": "ipython",
    "version": 3
   },
   "file_extension": ".py",
   "mimetype": "text/x-python",
   "name": "python",
   "nbconvert_exporter": "python",
   "pygments_lexer": "ipython3",
   "version": "3.6.4"
  }
 },
 "nbformat": 4,
 "nbformat_minor": 2
}
