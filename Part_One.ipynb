{
 "cells": [
  {
   "cell_type": "markdown",
   "metadata": {},
   "source": [
    "# Part 1: Initial Planning\n",
    "\n",
    "## Robert, Dave and Stan\n",
    "--------------------------------------------------------------------------------------------------------------------------------\n",
    "\n",
    "\n",
    "### We hope to predict the winner of the 2018 NBA Playoffs \n",
    "### Collected data from \n",
    "  1. https://www.cbssports.com/nba/standings \n",
    "  2. https://www.kaggle.com/pablote/nba-enhanced-stats \n",
    "  3. https://stats.nba.com/teams/traditional/?sort=W_PCT&dir=-1&Season=2017-18&SeasonType=Regular%20Season \n",
    "                       "
   ]
  },
  {
   "cell_type": "markdown",
   "metadata": {},
   "source": [
    "Import necessary libraries "
   ]
  },
  {
   "cell_type": "code",
   "execution_count": 23,
   "metadata": {
    "collapsed": true
   },
   "outputs": [],
   "source": [
    "import pandas as pd\n",
    "%matplotlib inline\n",
    "from matplotlib import pyplot as plt\n",
    "import numpy as np\n",
    "from scipy.stats import ttest_ind\n",
    "import math"
   ]
  },
  {
   "cell_type": "markdown",
   "metadata": {},
   "source": [
    "Read box statistics from 2016/2017 season and 2017/2018"
   ]
  },
  {
   "cell_type": "code",
   "execution_count": 24,
   "metadata": {
    "collapsed": true
   },
   "outputs": [],
   "source": [
    "team_box1617 = pd.read_csv(\"./2016-17_teamBoxScore.csv\", sep=',', dtype = str)\n",
    "player_box1617 = pd.read_csv(\"./2016-17_playerBoxScore.csv\", sep=',', dtype = str)\n",
    "official_box1617 = pd.read_csv(\"./2016-17_officialBoxScore.csv\", sep=',', dtype = str)\n",
    "standings1617 = pd.read_csv(\"./2016-17_standings.csv\", sep=',', dtype = str)\n",
    "team_box1718 = pd.read_csv(\"./2017-18_teamBoxScore.csv\", sep=',', dtype = str)\n",
    "player_box1718 = pd.read_csv(\"./2017-18_playerBoxScore.csv\", sep=',', dtype = str)\n",
    "official_box1718 = pd.read_csv(\"./2017-18_officialBoxScore.csv\", sep=',', dtype = str)\n",
    "standings1718 = pd.read_csv(\"./2017-18_standings.csv\", sep=',', dtype = str)"
   ]
  },
  {
   "cell_type": "markdown",
   "metadata": {},
   "source": [
    "Read csv file that has been scraped from cite 1."
   ]
  },
  {
   "cell_type": "code",
   "execution_count": 25,
   "metadata": {
    "collapsed": true
   },
   "outputs": [],
   "source": [
    "names = [\"Team\", \"W\", \"L\", 'Pct', 'GB', 'Home', 'Road', \"Conf\", \"Div\", \"Streak\", \"L10\", \"?\"]\n",
    "team_statistics = pd.read_csv(\"./scraping_attempt2.csv\", sep = ',', dtype = str, names = names)\n",
    "del team_statistics['?']\n",
    "team_statistics.drop(0, inplace=True)\n",
    "team_statistics.drop(16, inplace=True)\n",
    "#team_statistics"
   ]
  },
  {
   "cell_type": "markdown",
   "metadata": {},
   "source": [
    "Read csv files from end of year statistsics from the past 4 years"
   ]
  },
  {
   "cell_type": "code",
   "execution_count": 26,
   "metadata": {
    "collapsed": true
   },
   "outputs": [],
   "source": [
    "team_stats1415 = pd.read_csv(\"./Stats_14-15.csv\", sep = \",\")\n",
    "team_stats1516 = pd.read_csv(\"./Stats_15-16.csv\", sep = \",\")\n",
    "team_stats1617 = pd.read_csv(\"./Stats_16-17.csv\", sep = \",\")\n",
    "team_stats1718 = pd.read_csv(\"./Stats_17-18.csv\", sep = \",\")"
   ]
  },
  {
   "cell_type": "code",
   "execution_count": 27,
   "metadata": {
    "collapsed": true
   },
   "outputs": [],
   "source": [
    "team_stats1415['GP'] = team_stats1415['W'] + team_stats1415['L']\n",
    "team_stats1516['GP'] = team_stats1516['W'] + team_stats1516['L']\n",
    "team_stats1617['GP'] = team_stats1617['W'] + team_stats1617['L']\n",
    "team_stats1718['GP'] = team_stats1718['W'] + team_stats1718['L']"
   ]
  },
  {
   "cell_type": "code",
   "execution_count": 28,
   "metadata": {
    "collapsed": true
   },
   "outputs": [],
   "source": [
    "del team_stats1415[\"MIN\"]\n",
    "del team_stats1516[\"MIN\"]\n",
    "del team_stats1617[\"MIN\"]\n",
    "del team_stats1718[\"MIN\"]"
   ]
  },
  {
   "cell_type": "code",
   "execution_count": 29,
   "metadata": {},
   "outputs": [
    {
     "name": "stderr",
     "output_type": "stream",
     "text": [
      "/anaconda3/lib/python3.6/site-packages/ipykernel_launcher.py:4: UserWarning: Boolean Series key will be reindexed to match DataFrame index.\n",
      "  after removing the cwd from sys.path.\n"
     ]
    }
   ],
   "source": [
    "top_teams1415 = team_stats1415[team_stats1415[\"WIN%\"] > .6]\n",
    "top_teams1516 = team_stats1516[team_stats1516[\"WIN%\"] > .6]\n",
    "top_teams1617 = team_stats1516[team_stats1617[\"WIN%\"] > .6]\n",
    "top_teams1718 = team_stats1516[team_stats1718[\"WIN%\"] > .6]"
   ]
  },
  {
   "cell_type": "code",
   "execution_count": 30,
   "metadata": {
    "collapsed": true
   },
   "outputs": [],
   "source": [
    "top_team_stats_1415 = top_teams1415[[\"TEAM\", \"W\", \"L\", \"WIN%\", \"PTS\"]]\n",
    "top_team_stats_1516 = top_teams1516[[\"TEAM\", \"W\", \"L\", \"WIN%\", \"PTS\"]]\n",
    "top_team_stats_1617 = top_teams1617[[\"TEAM\", \"W\", \"L\", \"WIN%\", \"PTS\"]]\n",
    "top_team_stats_1718 = top_teams1718[[\"TEAM\", \"W\", \"L\", \"WIN%\", \"PTS\"]]"
   ]
  },
  {
   "cell_type": "code",
   "execution_count": 31,
   "metadata": {},
   "outputs": [
    {
     "data": {
      "text/plain": [
       "<matplotlib.axes._subplots.AxesSubplot at 0x10c8a89e8>"
      ]
     },
     "execution_count": 31,
     "metadata": {},
     "output_type": "execute_result"
    },
    {
     "data": {
      "image/png": "[encoded data removed]",
      "text/plain": [
       "<matplotlib.figure.Figure at 0x1a0df9eef0>"
      ]
     },
     "metadata": {},
     "output_type": "display_data"
    }
   ],
   "source": [
    "top_team_stats_1415.plot(figsize = (15, 5), kind=\"bar\", grid = True)\n"
   ]
  },
  {
   "cell_type": "code",
   "execution_count": 59,
   "metadata": {},
   "outputs": [
    {
     "data": {
      "text/plain": [
       "<matplotlib.axes._subplots.AxesSubplot at 0x108e7f908>"
      ]
     },
     "execution_count": 59,
     "metadata": {},
     "output_type": "execute_result"
    },
    {
     "data": {
      "image/png": "[encoded data removed]",
      "text/plain": [
       "<matplotlib.figure.Figure at 0x10bc6e438>"
      ]
     },
     "metadata": {},
     "output_type": "display_data"
    }
   ],
   "source": [
    "#top_teams1415 = team_stats1415[team_stats1415[\"WIN%\"] > .6]\n",
    "# team_stats1718\n",
    "gs_1718 = team_stats1718[team_stats1718['TEAM'] == 'Golden_State_Warriors']\n",
    "cc_1718 = team_stats1718[team_stats1718['TEAM'] == 'Cleveland_Cavaliers']\n",
    "frames = [gs_1718, cc_1718]\n",
    "finals_1718 = pd.concat(frames)\n",
    "# finals_1718\n",
    "finals_1718[\"Win%_*_100\"] = finals_1718[\"WIN%\"] * 100\n",
    "finals_stats_1718 = finals_1718[[\"TEAM\",\"Win%_*_100\", \"PTS\", \"FGM\", \"FGA\", \"3PM\", \"3PA\"]]\n",
    "finals_stats_1718.plot(figsize = (15, 5), kind=\"bar\", grid = True)"
   ]
  },
  {
   "cell_type": "code",
   "execution_count": null,
   "metadata": {
    "collapsed": true
   },
   "outputs": [],
   "source": []
  }
 ],
 "metadata": {
  "kernelspec": {
   "display_name": "Python 3",
   "language": "python",
   "name": "python3"
  },
  "language_info": {
   "codemirror_mode": {
    "name": "ipython",
    "version": 3
   },
   "file_extension": ".py",
   "mimetype": "text/x-python",
   "name": "python",
   "nbconvert_exporter": "python",
   "pygments_lexer": "ipython3",
   "version": "3.6.3"
  }
 },
 "nbformat": 4,
 "nbformat_minor": 2
}
