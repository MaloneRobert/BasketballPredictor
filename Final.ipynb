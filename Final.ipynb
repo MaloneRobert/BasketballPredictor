{
 "cells": [
  {
   "cell_type": "markdown",
   "metadata": {},
   "source": [
    "TODO\n",
    "- Incorporate feedback on Part 2 and update notebook (DONE)\n",
    "- Clean up code and add comments in preprossesing and series preprossesing\n",
    "- Build a prediction model -- MLP Neural Network?\n",
    "- Visualize and interpret the results \n",
    "- Document and present your project outcomes\n",
    "\n",
    "Rubric\n",
    "- Updates to part 2: Need to write an update description \n",
    "- Modeling Choices: How and why MLP? Why not others (Write up)\n",
    "- Modeling and Prediction: Note that we need more comments than last time\n",
    "- Visualizations: What does it tell us"
   ]
  },
  {
   "cell_type": "code",
   "execution_count": 30,
   "metadata": {
    "collapsed": true
   },
   "outputs": [],
   "source": [
    "# Import necessary libraries \n",
    "\n",
    "import pandas as pd\n",
    "from matplotlib import pyplot as plt\n",
    "import numpy as np\n",
    "import scipy as sc\n",
    "from sklearn import neural_network\n",
    "%matplotlib inline"
   ]
  },
  {
   "cell_type": "code",
   "execution_count": 32,
   "metadata": {
    "collapsed": true
   },
   "outputs": [],
   "source": [
    "diff1314 = pd.read_csv('./preprocessed/final/diff1314.csv', sep=',')\n",
    "diff1415 = pd.read_csv('./preprocessed/final/diff1415.csv', sep=',')\n",
    "diff1516 = pd.read_csv('./preprocessed/final/diff1516.csv', sep=',')\n",
    "diff1617 = pd.read_csv('./preprocessed/final/diff1617.csv', sep=',')\n",
    "\n",
    "diff_norm1314 = pd.read_csv('./preprocessed/final/diff_norm1314.csv', sep=',')\n",
    "diff_norm1415 = pd.read_csv('./preprocessed/final/diff_norm1415.csv', sep=',')\n",
    "diff_norm1516 = pd.read_csv('./preprocessed/final/diff_norm1516.csv', sep=',')\n",
    "diff_norm1617 = pd.read_csv('./preprocessed/final/diff_norm1617.csv', sep=',')\n",
    "\n",
    "win1314 = pd.read_csv('./preprocessed/final/winner1314.csv', sep=',')\n",
    "win1415 = pd.read_csv('./preprocessed/final/winner1415.csv', sep=',')\n",
    "win1516 = pd.read_csv('./preprocessed/final/winner1516.csv', sep=',')\n",
    "win1617 = pd.read_csv('./preprocessed/final/winner1617.csv', sep=',')"
   ]
  },
  {
   "cell_type": "code",
   "execution_count": 33,
   "metadata": {},
   "outputs": [
    {
     "data": {
      "text/plain": [
       "(15, 45)"
      ]
     },
     "execution_count": 33,
     "metadata": {},
     "output_type": "execute_result"
    }
   ],
   "source": [
    "arr = [diff1314, diff1415, diff1516, diff1617, diff_norm1314, diff_norm1415, diff_norm1516, diff_norm1617]\n",
    "\n",
    "for j in arr:\n",
    "    del j['Unnamed: 0']\n",
    "    del j['1']\n",
    "    \n",
    "diff1314.shape"
   ]
  },
  {
   "cell_type": "code",
   "execution_count": 34,
   "metadata": {
    "collapsed": true
   },
   "outputs": [],
   "source": [
    "arr2 = [diff1314, diff1415, diff1516, diff1617]\n",
    "data = []\n",
    "\n",
    "for df in arr2:\n",
    "    for row in df.iterrows():\n",
    "        index, stat = row\n",
    "        data.append(stat.tolist())"
   ]
  },
  {
   "cell_type": "code",
   "execution_count": 35,
   "metadata": {
    "collapsed": true
   },
   "outputs": [],
   "source": [
    "del win1314[\"Unnamed: 0\"]\n",
    "del win1415[\"Unnamed: 0\"]\n",
    "del win1516[\"Unnamed: 0\"]\n",
    "del win1617[\"Unnamed: 0\"]"
   ]
  },
  {
   "cell_type": "code",
   "execution_count": 36,
   "metadata": {
    "collapsed": true
   },
   "outputs": [],
   "source": [
    "y = []\n",
    "\n",
    "arr2 = [win1314, win1415, win1516, win1617]\n",
    "\n",
    "for i in arr2:\n",
    "    for row in i.iterrows():\n",
    "        index, winner = row\n",
    "        y.append(winner.tolist()[0])"
   ]
  },
  {
   "cell_type": "code",
   "execution_count": 37,
   "metadata": {},
   "outputs": [
    {
     "data": {
      "text/plain": [
       "MLPClassifier(activation='relu', alpha=0.0001, batch_size='auto', beta_1=0.9,\n",
       "       beta_2=0.999, early_stopping=False, epsilon=1e-08,\n",
       "       hidden_layer_sizes=[10, 10], learning_rate='constant',\n",
       "       learning_rate_init=0.001, max_iter=200, momentum=0.9,\n",
       "       nesterovs_momentum=True, power_t=0.5, random_state=0, shuffle=True,\n",
       "       solver='lbfgs', tol=0.0001, validation_fraction=0.1, verbose=False,\n",
       "       warm_start=False)"
      ]
     },
     "execution_count": 37,
     "metadata": {},
     "output_type": "execute_result"
    }
   ],
   "source": [
    "model = neural_network.MLPClassifier(solver = 'lbfgs', random_state = 0, hidden_layer_sizes = [10,10])\n",
    "model.fit(data, y)"
   ]
  },
  {
   "cell_type": "code",
   "execution_count": null,
   "metadata": {
    "collapsed": true
   },
   "outputs": [],
   "source": [
    "stats_1718 = "
   ]
  }
 ],
 "metadata": {
  "kernelspec": {
   "display_name": "Python 3",
   "language": "python",
   "name": "python3"
  },
  "language_info": {
   "codemirror_mode": {
    "name": "ipython",
    "version": 3
   },
   "file_extension": ".py",
   "mimetype": "text/x-python",
   "name": "python",
   "nbconvert_exporter": "python",
   "pygments_lexer": "ipython3",
   "version": "3.6.3"
  }
 },
 "nbformat": 4,
 "nbformat_minor": 2
}
