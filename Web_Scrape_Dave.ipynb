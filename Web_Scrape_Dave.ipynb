{
 "cells": [
  {
   "cell_type": "code",
   "execution_count": 141,
   "metadata": {},
   "outputs": [],
   "source": [
    "# import libraries\n",
    "import pandas\n",
    "import csv\n",
    "from bs4 import BeautifulSoup\n",
    "import requests"
   ]
  },
  {
   "cell_type": "code",
   "execution_count": 120,
   "metadata": {
    "collapsed": true
   },
   "outputs": [],
   "source": [
    "def clean_text(text):\n",
    "    return ' '.join(text.split())"
   ]
  },
  {
   "cell_type": "code",
   "execution_count": 121,
   "metadata": {},
   "outputs": [],
   "source": [
    "link = 'https://www.cbssports.com/nba/standings'\n",
    "start_page = requests.get(link)"
   ]
  },
  {
   "cell_type": "code",
   "execution_count": null,
   "metadata": {},
   "outputs": [],
   "source": []
  },
  {
   "cell_type": "code",
   "execution_count": 122,
   "metadata": {
    "scrolled": true
   },
   "outputs": [],
   "source": [
    "soup = BeautifulSoup(start_page.content, 'lxml')"
   ]
  },
  {
   "cell_type": "code",
   "execution_count": 167,
   "metadata": {},
   "outputs": [
    {
     "name": "stdout",
     "output_type": "stream",
     "text": [
      "['Eastern Conference', 'W', 'L', 'Pct', 'GB', 'Home', 'Road', 'Conf', 'Div', 'Streak', 'L10', 'Toronto', '59', '23', '0.720', '-', '34-7', '25-16', '40-12', '12-4', 'L1', '6-4', 'Boston', '55', '27', '0.671', '4', '27-14', '28-13', '33-19', '12-4', 'W1', '6-4', 'Philadelphia', '52', '30', '0.634', '7', '30-11', '22-19', '34-18', '9-7', 'W16', '10-0', 'Cleveland', '50', '32', '0.610', '9', '29-12', '21-20', '35-17', '11-5', 'L1', '7-3', 'Indiana', '48', '34', '0.585', '11', '27-14', '21-20', '32-20', '10-6', 'L1', '7-3', 'Miami', '44', '38', '0.537', '15', '26-15', '18-23', '31-21', '11-5', 'W1', '5-5', 'Milwaukee', '44', '38', '0.537', '15', '25-16', '19-22', '27-25', '6-10', 'L1', '6-4', 'Washington', '43', '39', '0.524', '16', '23-18', '20-21', '28-24', '8-8', 'L1', '3-7', '', 'Detroit', '39', '43', '0.476', '20', '25-16', '14-27', '24-28', '9-7', 'W1', '7-3', 'Charlotte', '36', '46', '0.439', '23', '21-20', '15-26', '22-30', '11-5', 'W1', '5-5', 'New York', '29', '53', '0.354', '30', '19-22', '10-31', '17-35', '6-10', 'W1', '3-7', 'Brooklyn', '28', '54', '0.341', '31', '15-26', '13-28', '19-33', '1-15', 'L1', '5-5', 'Chicago', '27', '55', '0.329', '32', '17-24', '10-31', '21-31', '4-12', 'L4', '3-7', 'Orlando', '25', '57', '0.305', '34', '17-24', '8-33', '15-37', '5-11', 'W1', '4-6', 'Atlanta', '24', '58', '0.293', '35', '16-25', '8-33', '12-40', '5-11', 'L1', '3-7', 'Western Conference', 'W', 'L', 'Pct', 'GB', 'Home', 'Road', 'Conf', 'Div', 'Streak', 'L10', '1 z-Houston', '65', '17', '0.793', '-', '34-7', '31-10', '41-11', '12-4', 'L1', '7-3', '2 y-Golden St.', '58', '24', '0.707', '7', '29-12', '29-12', '34-18', '13-3', 'L1', '4-6', '3 y-Portland', '49', '33', '0.598', '16', '28-13', '21-20', '31-21', '9-7', 'W1', '5-5', '4 x-Oklahoma City', '48', '34', '0.585', '17', '27-14', '21-20', '28-24', '5-11', 'W3', '5-5', '5 x-Utah', '48', '34', '0.585', '17', '28-13', '20-21', '34-18', '7-9', 'L1', '7-3', '6 x-New Orleans', '48', '34', '0.585', '17', '24-17', '24-17', '27-25', '9-7', 'W5', '6-4', '7 x-San Antonio', '47', '35', '0.573', '18', '33-8', '14-27', '29-23', '9-7', 'L1', '5-5', '8 x-Minnesota', '47', '35', '0.573', '18', '30-11', '17-24', '34-18', '10-6', 'W3', '6-4', '', 'o-Denver', '46', '36', '0.561', '19', '31-10', '15-26', '28-24', '9-7', 'L1', '7-3', 'o-L.A. Clippers', '42', '40', '0.512', '23', '22-19', '20-21', '24-28', '12-4', 'L4', '4-6', 'o-L.A. Lakers', '35', '47', '0.427', '30', '20-21', '15-26', '19-33', '6-10', 'W1', '3-7', 'o-Sacramento', '27', '55', '0.329', '38', '14-27', '13-28', '14-38', '5-11', 'W1', '4-6', 'o-Dallas', '24', '58', '0.293', '41', '15-26', '9-32', '14-38', '5-11', 'L4', '2-8', 'o-Memphis', '22', '60', '0.268', '43', '16-25', '6-35', '18-34', '5-11', 'L2', '3-7', 'o-Phoenix', '21', '61', '0.256', '44', '10-31', '11-30', '15-37', '4-12', 'W1', '2-8']\n"
     ]
    }
   ],
   "source": [
    "stats = []\n",
    "for row in soup.find_all('td'):\n",
    "#     print(row.text)\n",
    "    stats.append(str(row.text))\n",
    "    \n",
    "# print(stats)\n",
    "count = 0\n",
    "for x in range(1,9):\n",
    "    idx = x*11\n",
    "    temp = stats[idx]\n",
    "    stats[idx] = temp[4:]\n",
    "index = stats.index(\"o-Chicago\")\n",
    "temp = stats[100]\n",
    "stats[100] = temp[2:]\n",
    "count = 100\n",
    "for y in range(10,16):\n",
    "    idx = count + 11\n",
    "    temp = stats[idx]\n",
    "    stats[idx] = temp[2:]\n",
    "    count = idx\n",
    "print(stats)\n"
   ]
  },
  {
   "cell_type": "code",
   "execution_count": null,
   "metadata": {},
   "outputs": [],
   "source": []
  },
  {
   "cell_type": "code",
   "execution_count": 33,
   "metadata": {},
   "outputs": [
    {
     "name": "stdout",
     "output_type": "stream",
     "text": [
      "Toronto\n"
     ]
    }
   ],
   "source": []
  },
  {
   "cell_type": "code",
   "execution_count": 35,
   "metadata": {},
   "outputs": [
    {
     "name": "stdout",
     "output_type": "stream",
     "text": [
      "W\n"
     ]
    }
   ],
   "source": []
  },
  {
   "cell_type": "code",
   "execution_count": 31,
   "metadata": {},
   "outputs": [
    {
     "name": "stdout",
     "output_type": "stream",
     "text": [
      "W\n"
     ]
    }
   ],
   "source": []
  },
  {
   "cell_type": "code",
   "execution_count": null,
   "metadata": {
    "collapsed": true
   },
   "outputs": [],
   "source": []
  }
 ],
 "metadata": {
  "kernelspec": {
   "display_name": "Python 3",
   "language": "python",
   "name": "python3"
  },
  "language_info": {
   "codemirror_mode": {
    "name": "ipython",
    "version": 3
   },
   "file_extension": ".py",
   "mimetype": "text/x-python",
   "name": "python",
   "nbconvert_exporter": "python",
   "pygments_lexer": "ipython3",
   "version": "3.6.3"
  }
 },
 "nbformat": 4,
 "nbformat_minor": 2
}
