{
 "cells": [
  {
   "cell_type": "markdown",
   "metadata": {},
   "source": [
    "## Successful Web Scrape\n",
    "\n",
    "Below is code for a web scrape of some team statistics from the end of the previous season. "
   ]
  },
  {
   "cell_type": "code",
   "execution_count": 15,
   "metadata": {},
   "outputs": [],
   "source": [
    "# Import necessary libraries\n",
    "from bs4 import BeautifulSoup\n",
    "import requests\n",
    "import numpy as np\n",
    "import pandas as pd\n",
    "import csv"
   ]
  },
  {
   "cell_type": "code",
   "execution_count": 16,
   "metadata": {},
   "outputs": [],
   "source": [
    "# Establish a link, then use beautiful soup to read in statistics\n",
    "link = 'https://www.cbssports.com/nba/standings'\n",
    "stat_page = requests.get(link)\n",
    "soup = BeautifulSoup(stat_page.content, 'lxml')"
   ]
  },
  {
   "cell_type": "code",
   "execution_count": 17,
   "metadata": {},
   "outputs": [],
   "source": [
    "# Add all of the stats to a list\n",
    "team_stats = []\n",
    "for row in soup.find_all('td'):\n",
    "    team_stats.append(str(row.text))"
   ]
  },
  {
   "cell_type": "code",
   "execution_count": 18,
   "metadata": {},
   "outputs": [],
   "source": [
    "# This code wrote each value of data onto a csv file where the delimiter was a comma. Note, I had to manually edit the\n",
    "# csv file before it could correctly be read into a data frame. I had to put each team onto a new line. Please see \n",
    "# scraping_attempt2 file before running this code.\n",
    "\n",
    "#csvfile = './scraping_attempt2.csv'\n",
    "#with open(csvfile, 'w') as output:\n",
    "#    writer = csv.writer(output, lineterminator = ',')\n",
    "#    for val in team_stats:\n",
    "#        writer.writerow([val])"
   ]
  },
  {
   "cell_type": "code",
   "execution_count": 19,
   "metadata": {},
   "outputs": [],
   "source": [
    "# This was our attempt to scrape from the other website. We had trouble with finding any text.\n",
    "link2 = 'http://stats.nba.com/teams/traditional/?sort=W_PCT&dir=-1&Season=2017-18&SeasonType=Regular%20Season'\n",
    "stat_page1 = requests.get(link2)\n",
    "soup1 = BeautifulSoup(stat_page1.content, 'lxml')"
   ]
  },
  {
   "cell_type": "code",
   "execution_count": 25,
   "metadata": {},
   "outputs": [],
   "source": [
    "team_stats1718 = []\n",
    "for row in soup1.find_all('td'):\n",
    "    team_stats1718.append(str(row.text))"
   ]
  },
  {
   "cell_type": "code",
   "execution_count": null,
   "metadata": {},
   "outputs": [],
   "source": []
  }
 ],
 "metadata": {
  "kernelspec": {
   "display_name": "Python 3",
   "language": "python",
   "name": "python3"
  },
  "language_info": {
   "codemirror_mode": {
    "name": "ipython",
    "version": 3
   },
   "file_extension": ".py",
   "mimetype": "text/x-python",
   "name": "python",
   "nbconvert_exporter": "python",
   "pygments_lexer": "ipython3",
   "version": "3.6.4"
  }
 },
 "nbformat": 4,
 "nbformat_minor": 2
}
