{
 "cells": [
  {
   "cell_type": "code",
   "execution_count": 5,
   "metadata": {
    "collapsed": true
   },
   "outputs": [],
   "source": [
    "import pandas as pd\n",
    "%matplotlib inline\n",
    "from matplotlib import pyplot as plt\n",
    "import numpy as np\n",
    "from scipy.stats import ttest_ind\n",
    "import math"
   ]
  },
  {
   "cell_type": "code",
   "execution_count": 6,
   "metadata": {
    "collapsed": true
   },
   "outputs": [],
   "source": [
    "team_stats1415 = pd.read_csv(\"./team_stats1415.csv\", sep = \",\")\n",
    "team_stats1516 = pd.read_csv(\"./team_stats1516.csv\", sep = \",\")\n",
    "team_stats1617 = pd.read_csv(\"./team_stats1617.csv\", sep = \",\")\n",
    "team_stats1718 = pd.read_csv(\"./team_stats1718.csv\", sep = \",\")\n",
    "scraped_team_stats1718 = pd.read_csv(\"./scraped_EOS_2017-18.csv\", sep = \",\")"
   ]
  },
  {
   "cell_type": "code",
   "execution_count": 7,
   "metadata": {},
   "outputs": [
    {
     "data": {
      "text/html": [
       "<div>\n",
       "<style>\n",
       "    .dataframe thead tr:only-child th {\n",
       "        text-align: right;\n",
       "    }\n",
       "\n",
       "    .dataframe thead th {\n",
       "        text-align: left;\n",
       "    }\n",
       "\n",
       "    .dataframe tbody tr th {\n",
       "        vertical-align: top;\n",
       "    }\n",
       "</style>\n",
       "<table border=\"1\" class=\"dataframe\">\n",
       "  <thead>\n",
       "    <tr style=\"text-align: right;\">\n",
       "      <th></th>\n",
       "      <th>Unnamed: 0</th>\n",
       "      <th>Team</th>\n",
       "      <th>W</th>\n",
       "      <th>L</th>\n",
       "      <th>Pct</th>\n",
       "      <th>GB</th>\n",
       "      <th>Home</th>\n",
       "      <th>Road</th>\n",
       "      <th>Conf</th>\n",
       "      <th>Div</th>\n",
       "      <th>Streak</th>\n",
       "      <th>L10</th>\n",
       "    </tr>\n",
       "  </thead>\n",
       "  <tbody>\n",
       "    <tr>\n",
       "      <th>0</th>\n",
       "      <td>1</td>\n",
       "      <td>Toronto</td>\n",
       "      <td>59</td>\n",
       "      <td>23</td>\n",
       "      <td>0.720</td>\n",
       "      <td>0</td>\n",
       "      <td>34-7</td>\n",
       "      <td>25-16</td>\n",
       "      <td>40-12</td>\n",
       "      <td>12-4</td>\n",
       "      <td>L1</td>\n",
       "      <td>6-4</td>\n",
       "    </tr>\n",
       "    <tr>\n",
       "      <th>1</th>\n",
       "      <td>2</td>\n",
       "      <td>Boston</td>\n",
       "      <td>55</td>\n",
       "      <td>27</td>\n",
       "      <td>0.671</td>\n",
       "      <td>4</td>\n",
       "      <td>27-14</td>\n",
       "      <td>28-13</td>\n",
       "      <td>33-19</td>\n",
       "      <td>12-4</td>\n",
       "      <td>W1</td>\n",
       "      <td>6-4</td>\n",
       "    </tr>\n",
       "    <tr>\n",
       "      <th>2</th>\n",
       "      <td>3</td>\n",
       "      <td>Philadelphia</td>\n",
       "      <td>52</td>\n",
       "      <td>30</td>\n",
       "      <td>0.634</td>\n",
       "      <td>7</td>\n",
       "      <td>30-11</td>\n",
       "      <td>22-19</td>\n",
       "      <td>34-18</td>\n",
       "      <td>9-7</td>\n",
       "      <td>W16</td>\n",
       "      <td>10-0</td>\n",
       "    </tr>\n",
       "    <tr>\n",
       "      <th>3</th>\n",
       "      <td>4</td>\n",
       "      <td>Cleveland</td>\n",
       "      <td>50</td>\n",
       "      <td>32</td>\n",
       "      <td>0.610</td>\n",
       "      <td>9</td>\n",
       "      <td>29-12</td>\n",
       "      <td>21-20</td>\n",
       "      <td>35-17</td>\n",
       "      <td>11-5</td>\n",
       "      <td>L1</td>\n",
       "      <td>7-3</td>\n",
       "    </tr>\n",
       "    <tr>\n",
       "      <th>4</th>\n",
       "      <td>5</td>\n",
       "      <td>Indiana</td>\n",
       "      <td>48</td>\n",
       "      <td>34</td>\n",
       "      <td>0.585</td>\n",
       "      <td>11</td>\n",
       "      <td>27-14</td>\n",
       "      <td>21-20</td>\n",
       "      <td>32-20</td>\n",
       "      <td>10-6</td>\n",
       "      <td>L1</td>\n",
       "      <td>7-3</td>\n",
       "    </tr>\n",
       "  </tbody>\n",
       "</table>\n",
       "</div>"
      ],
      "text/plain": [
       "   Unnamed: 0          Team   W   L    Pct  GB   Home   Road   Conf   Div  \\\n",
       "0           1       Toronto  59  23  0.720   0   34-7  25-16  40-12  12-4   \n",
       "1           2        Boston  55  27  0.671   4  27-14  28-13  33-19  12-4   \n",
       "2           3  Philadelphia  52  30  0.634   7  30-11  22-19  34-18   9-7   \n",
       "3           4     Cleveland  50  32  0.610   9  29-12  21-20  35-17  11-5   \n",
       "4           5       Indiana  48  34  0.585  11  27-14  21-20  32-20  10-6   \n",
       "\n",
       "  Streak   L10  \n",
       "0     L1   6-4  \n",
       "1     W1   6-4  \n",
       "2    W16  10-0  \n",
       "3     L1   7-3  \n",
       "4     L1   7-3  "
      ]
     },
     "execution_count": 7,
     "metadata": {},
     "output_type": "execute_result"
    }
   ],
   "source": [
    "scraped_team_stats1718.head()"
   ]
  },
  {
   "cell_type": "code",
   "execution_count": null,
   "metadata": {
    "collapsed": true
   },
   "outputs": [],
   "source": []
  }
 ],
 "metadata": {
  "kernelspec": {
   "display_name": "Python 3",
   "language": "python",
   "name": "python3"
  },
  "language_info": {
   "codemirror_mode": {
    "name": "ipython",
    "version": 3
   },
   "file_extension": ".py",
   "mimetype": "text/x-python",
   "name": "python",
   "nbconvert_exporter": "python",
   "pygments_lexer": "ipython3",
   "version": "3.6.3"
  }
 },
 "nbformat": 4,
 "nbformat_minor": 2
}
